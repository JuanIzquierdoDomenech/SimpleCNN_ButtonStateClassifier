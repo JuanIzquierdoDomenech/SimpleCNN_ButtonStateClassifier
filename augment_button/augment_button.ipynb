{
 "cells": [
  {
   "cell_type": "code",
   "execution_count": 1,
   "metadata": {},
   "outputs": [],
   "source": [
    "import Augmentor\n",
    "import os\n",
    "import glob\n",
    "\n",
    "from PIL import Image"
   ]
  },
  {
   "cell_type": "code",
   "execution_count": 2,
   "metadata": {},
   "outputs": [],
   "source": [
    "root_directory = \"images/*\""
   ]
  },
  {
   "cell_type": "code",
   "execution_count": 3,
   "metadata": {},
   "outputs": [
    {
     "name": "stdout",
     "output_type": "stream",
     "text": [
      "Folders (classes) found: ['on', 'off'] \n"
     ]
    }
   ],
   "source": [
    "folders = []\n",
    "for f in glob.glob(root_directory):\n",
    "    if os.path.isdir(f):\n",
    "        folders.append(os.path.abspath(f))\n",
    "\n",
    "print(\"Folders (classes) found: %s \" % [os.path.split(x)[1] for x in folders])"
   ]
  },
  {
   "cell_type": "code",
   "execution_count": 4,
   "metadata": {},
   "outputs": [
    {
     "name": "stdout",
     "output_type": "stream",
     "text": [
      "Folder /Users/juanjesusizquierdo/Desktop/ML-DL/SimpleCNNMachineButtonOnOff/augment_button/images/on:\n",
      "Initialised with 1 image(s) found.\n",
      "Output directory set to /Users/juanjesusizquierdo/Desktop/ML-DL/SimpleCNNMachineButtonOnOff/augment_button/images/on/output.\n",
      "----------------------------\n",
      "\n",
      "Folder /Users/juanjesusizquierdo/Desktop/ML-DL/SimpleCNNMachineButtonOnOff/augment_button/images/off:\n",
      "Initialised with 1 image(s) found.\n",
      "Output directory set to /Users/juanjesusizquierdo/Desktop/ML-DL/SimpleCNNMachineButtonOnOff/augment_button/images/off/output.\n",
      "----------------------------\n",
      "\n"
     ]
    }
   ],
   "source": [
    "pipelines = {}\n",
    "for folder in folders:\n",
    "    print(\"Folder %s:\" % (folder))\n",
    "    pipelines[os.path.split(folder)[1]] = (Augmentor.Pipeline(folder))\n",
    "    print(\"\\n----------------------------\\n\")"
   ]
  },
  {
   "cell_type": "code",
   "execution_count": 5,
   "metadata": {},
   "outputs": [
    {
     "name": "stdout",
     "output_type": "stream",
     "text": [
      "Class on has 1 samples.\n",
      "Class off has 1 samples.\n"
     ]
    }
   ],
   "source": [
    "for p in pipelines.values():\n",
    "    print(\"Class %s has %s samples.\" % (p.augmentor_images[0].class_label, len(p.augmentor_images)))"
   ]
  },
  {
   "cell_type": "code",
   "execution_count": 6,
   "metadata": {},
   "outputs": [],
   "source": [
    "for pipeline in pipelines.values():\n",
    "    pipeline.zoom(probability=0.3, min_factor=1.0, max_factor=1.1)\n",
    "    pipeline.rotate(probability=0.3, max_left_rotation=5, max_right_rotation=5)\n",
    "    pipeline.skew_corner(probability=0.3, magnitude=0.1)"
   ]
  },
  {
   "cell_type": "code",
   "execution_count": 7,
   "metadata": {},
   "outputs": [
    {
     "name": "stderr",
     "output_type": "stream",
     "text": [
      "Processing <PIL.Image.Image image mode=RGB size=888x922 at 0x11E350190>: 100%|██████████| 1000/1000 [03:01<00:00,  5.51 Samples/s]                \n",
      "Processing <PIL.Image.Image image mode=RGBA size=857x826 at 0x10D97D2D0>: 100%|██████████| 1000/1000 [02:57<00:00,  5.65 Samples/s]                \n"
     ]
    }
   ],
   "source": [
    "for pipeline in pipelines.values():\n",
    "    pipeline.sample(1000)"
   ]
  }
 ],
 "metadata": {
  "kernelspec": {
   "display_name": "Python 3",
   "language": "python",
   "name": "python3"
  },
  "language_info": {
   "codemirror_mode": {
    "name": "ipython",
    "version": 3
   },
   "file_extension": ".py",
   "mimetype": "text/x-python",
   "name": "python",
   "nbconvert_exporter": "python",
   "pygments_lexer": "ipython3",
   "version": "3.7.7"
  }
 },
 "nbformat": 4,
 "nbformat_minor": 4
}
